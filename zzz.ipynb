{
 "cells": [
  {
   "cell_type": "code",
   "execution_count": null,
   "id": "32b106bc",
   "metadata": {},
   "outputs": [],
   "source": [
    "import random\n",
    "import time\n"
   ]
  },
  {
   "cell_type": "code",
   "execution_count": null,
   "id": "744c5b42",
   "metadata": {},
   "outputs": [],
   "source": [
    "CODE_TAG_OPEN = \"<code>\"\n",
    "CODE_TAG_CLOSE = \"</code>\"\n",
    "OBSERVATION_TAG_OPEN = \"<observation>\"\n",
    "OBSERVATION_TAG_CLOSE = \"</observation>\"\n",
    "\n",
    "TAGS = [CODE_TAG_OPEN, CODE_TAG_CLOSE, OBSERVATION_TAG_OPEN, OBSERVATION_TAG_CLOSE]\n",
    "MAX_TAG_LENGTH = max(len(tag) for tag in TAGS)\n",
    "\n",
    "MAX_TAG_LENGTH"
   ]
  },
  {
   "cell_type": "markdown",
   "id": "9864e481",
   "metadata": {},
   "source": [
    "## Create random text"
   ]
  },
  {
   "cell_type": "code",
   "execution_count": null,
   "id": "93dfd16d",
   "metadata": {},
   "outputs": [],
   "source": [
    "def random_text(length=100):\n",
    "    \"\"\" Create a random text and newlines. \"\"\"\n",
    "    text = \"\"\n",
    "    for _ in range(length):\n",
    "        text += random.choice(\"abcdefghijklmnopqrstuvwxyz<>+-/*=0123456789 \\n\")\n",
    "    return text"
   ]
  },
  {
   "cell_type": "code",
   "execution_count": null,
   "id": "9759feae",
   "metadata": {},
   "outputs": [],
   "source": [
    "def random_text_with_tags(min_length=10000):\n",
    "    \"\"\" Create a random text that has multiple TAG_OPEN and TAG_CLOSE, OBSERVATION_TAG_OPEN and OBSERVATION_TAG_CLOSE and newlines. \"\"\"\n",
    "    text = random_text()\n",
    "    while len(text) < min_length:\n",
    "        item = random.choice([CODE_TAG_OPEN, OBSERVATION_TAG_OPEN, \"text\"])\n",
    "        text_length = random.randint(10, 100)\n",
    "        if item == \"text\":\n",
    "            text += random_text(text_length)\n",
    "        elif item == CODE_TAG_OPEN:\n",
    "            text += \"\\n\" + CODE_TAG_OPEN + random_text(text_length) + \"\\n\" + CODE_TAG_CLOSE\n",
    "        elif item == OBSERVATION_TAG_OPEN:\n",
    "            text += \"\\n\" + OBSERVATION_TAG_OPEN + random_text(text_length) + \"\\n\" + OBSERVATION_TAG_CLOSE\n",
    "    return text"
   ]
  },
  {
   "cell_type": "code",
   "execution_count": null,
   "id": "da4a7eca",
   "metadata": {},
   "outputs": [],
   "source": [
    "text = random_text_with_tags()\n",
    "print(text)"
   ]
  },
  {
   "cell_type": "markdown",
   "id": "c570de31",
   "metadata": {},
   "source": [
    "### Stream random chunks of text"
   ]
  },
  {
   "cell_type": "code",
   "execution_count": null,
   "id": "c33548b2",
   "metadata": {},
   "outputs": [],
   "source": [
    "def stream_text_random_chunks(text, max_chunk_size=5):\n",
    "    i = 0\n",
    "    n = len(text)\n",
    "    while i < n:\n",
    "        chunk_size = random.randint(1, max_chunk_size)\n",
    "        yield text[i:i+chunk_size]\n",
    "        i += chunk_size"
   ]
  },
  {
   "cell_type": "code",
   "execution_count": null,
   "id": "31dffa43",
   "metadata": {},
   "outputs": [],
   "source": [
    "class MessageType:\n",
    "    TEXT = \"text\"\n",
    "    CODE = \"code\"\n",
    "    OBSERVATION = \"observation\""
   ]
  },
  {
   "cell_type": "code",
   "execution_count": null,
   "id": "d95ff88d",
   "metadata": {},
   "outputs": [],
   "source": [
    "prev_text, msg_type = \"\", MessageType.TEXT\n",
    "\n",
    "for chunk in stream_text_random_chunks(text):\n",
    "    # Sleep for a short time to simulate streaming\n",
    "    #time.sleep(0.05)\n",
    "    curr_text = prev_text + chunk\n",
    "    # Detect any \"<\" character\n",
    "    idx = curr_text.find(\"<\")\n",
    "    if idx < 0:\n",
    "        # If no \"<\" character is found, continue\n",
    "        print(curr_text, end=\"\")\n",
    "        prev_text = \"\"\n",
    "    else:\n",
    "        # If \"<\" character is found, print the previous text and reset it\n",
    "        if idx > 0:\n",
    "            # Print the text before the \"<\" character\n",
    "            print(curr_text[:idx], end=\"\")\n",
    "            curr_text = curr_text[idx:]\n",
    "        end_idx = curr_text.find(\">\")\n",
    "        if end_idx > 0:\n",
    "            # We know that there is a tag in curr_text, let´s extract it\n",
    "            tag = curr_text[:end_idx + 1]\n",
    "            curr_text = curr_text[end_idx + 1:]\n",
    "            # Switch the message type based on the tag\n",
    "            if tag == CODE_TAG_OPEN:\n",
    "                msg_type = MessageType.CODE\n",
    "                print(f\"TAG: {tag} - Message Type: {msg_type}\\n\")\n",
    "            elif tag == OBSERVATION_TAG_OPEN:\n",
    "                msg_type = MessageType.OBSERVATION\n",
    "                print(f\"TAG: {tag} - Message Type: {msg_type}\\n\")\n",
    "            elif tag == CODE_TAG_CLOSE or tag == OBSERVATION_TAG_CLOSE:\n",
    "                msg_type = MessageType.TEXT\n",
    "                print(f\"TAG: {tag} - Message Type: {msg_type}\\n\")\n",
    "            else:\n",
    "                # If the tag is not recognized, we assume it is not a message type change, so we go ahead\n",
    "                print(tag, end=\"\")\n",
    "        elif len(curr_text) > MAX_TAG_LENGTH:\n",
    "            # If the current text is longer than the maximum tag length, we assume it is a text\n",
    "            # We drop the starting \"<\" character and continue\n",
    "            print(curr_text[0], end=\"\")\n",
    "            curr_text = curr_text[1:]\n",
    "        prev_text = curr_text\n"
   ]
  },
  {
   "cell_type": "code",
   "execution_count": null,
   "id": "204ea7c6",
   "metadata": {},
   "outputs": [],
   "source": []
  }
 ],
 "metadata": {
  "kernelspec": {
   "display_name": "biomni-ui",
   "language": "python",
   "name": "python3"
  },
  "language_info": {
   "codemirror_mode": {
    "name": "ipython",
    "version": 3
   },
   "file_extension": ".py",
   "mimetype": "text/x-python",
   "name": "python",
   "nbconvert_exporter": "python",
   "pygments_lexer": "ipython3",
   "version": "3.12.2"
  }
 },
 "nbformat": 4,
 "nbformat_minor": 5
}
